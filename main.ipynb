{
 "cells": [
  {
   "cell_type": "code",
   "execution_count": 1,
   "metadata": {},
   "outputs": [],
   "source": [
    "from pathlib import Path\n",
    "import importlib\n",
    "\n",
    "import pandas as pd\n",
    "from thefuzz import fuzz\n",
    "\n",
    "import config\n",
    "import module\n",
    "from tests import test_attendance\n",
    "from tests import test_session\n",
    "\n",
    "for p in [module, config, test_attendance, test_session]:\n",
    "    try:\n",
    "        importlib.reload(p)  # reload package\n",
    "    except NameError:\n",
    "        pass"
   ]
  },
  {
   "attachments": {},
   "cell_type": "markdown",
   "metadata": {},
   "source": [
    "## Load DF"
   ]
  },
  {
   "cell_type": "code",
   "execution_count": 2,
   "metadata": {},
   "outputs": [
    {
     "name": "stdout",
     "output_type": "stream",
     "text": [
      "df loaded\n",
      "(95211, 14)\n"
     ]
    }
   ],
   "source": [
    "# if df is not loaded, load df\n",
    "if \"df_ori\" not in locals():\n",
    "\n",
    "    if not config.is_mutiple_files:  # data in one file (data from ken)\n",
    "        df_ori = pd.read_excel(config.path_raw_data)\n",
    "\n",
    "    elif config.is_mutiple_files:  # data in multiple files (data from coco)\n",
    "        files = Path(config.path_raw_data).glob(\"*.xlsx\")\n",
    "        dfs = [pd.read_excel(file, index_col=None, skiprows=2) for file in files]\n",
    "        df_ori = pd.concat(dfs, axis=0, ignore_index=True)\n",
    "\n",
    "    print(\"df loaded\")\n",
    "\n",
    "# if df is loaded, do not load again\n",
    "else:\n",
    "    print(\"df already exist\")\n",
    "\n",
    "df = df_ori.copy()\n",
    "print(df.shape)"
   ]
  },
  {
   "attachments": {},
   "cell_type": "markdown",
   "metadata": {},
   "source": [
    "# DF Attendance"
   ]
  },
  {
   "cell_type": "markdown",
   "metadata": {},
   "source": [
    "There are students who change name in the middle of month, e.g. \"Devan (PP)\" to \"Devan (KK)\". \n",
    "\n",
    "To fix this issue, need to replace the duplicated name with the other name. "
   ]
  },
  {
   "cell_type": "code",
   "execution_count": 3,
   "metadata": {},
   "outputs": [],
   "source": [
    "# codes with more than one name\n",
    "dup_codes = (df\n",
    "    .groupby([\"Service Type\", \"Student Code\"])\n",
    "    .agg(count=(\"Student Name\", \"nunique\"))\n",
    "    .loc[lambda df_: df_[\"count\"] > 1]\n",
    "    .reset_index()\n",
    "    [\"Student Code\"]\n",
    "    .values\n",
    ")\n",
    "# if the set ratio is more than threshold, change the name to the other\n",
    "for code in dup_codes:\n",
    "    names = df.loc[df[\"Student Code\"] == code, \"Student Name\"].unique()\n",
    "    name1, name2, *name3 = names\n",
    "    set_ratio = fuzz.token_set_ratio(name1, name2)\n",
    "    if set_ratio > 0.75:\n",
    "        df[\"Student Name\"] = df[\"Student Name\"].replace(name1, name2, inplace=False)\n",
    "        df[\"Student Name\"] = df[\"Student Name\"].replace(name3, name2, inplace=False)"
   ]
  },
  {
   "cell_type": "markdown",
   "metadata": {},
   "source": [
    "After name replacement is done, we can continue."
   ]
  },
  {
   "cell_type": "code",
   "execution_count": 4,
   "metadata": {},
   "outputs": [],
   "source": [
    "df_clean = (\n",
    "    # note: delete unknown share acc\n",
    "    module.delete_unknown_shared_acc_teacher(df)\n",
    "    # drop null rows and cols\n",
    "    .dropna(how=\"all\", axis=\"columns\")\n",
    "    .dropna(how=\"all\", axis=\"rows\")\n",
    "    # clean col name\n",
    "    .rename(columns=module.map_col)\n",
    "    .rename(columns=lambda c: c.lower().replace(\" \", \"_\"))\n",
    "    # obtain current month only\n",
    "    .assign(class_date=lambda df_: module.convert_to_gmt_plus_7(df_, \"class_date\"))\n",
    "    .loc[lambda df_: df_[\"class_date\"].dt.month == module.month]\n",
    "    # drop duplicated student attendance because i exported the att data multiple times\n",
    "    # assuming that one student can only exist once at a time\n",
    "    .drop_duplicates(subset=[\"student_code\", \"student_name\", \"class_time\", \"class_date\"])\n",
    "    .assign(\n",
    "        student_name=lambda df_: df_[\"student_name\"].str.upper(),\n",
    "        # membership = dlx, online or GO\n",
    "        student_membership=lambda df_: module.create_student_membership(df_),\n",
    "        # new code = name + code\n",
    "        student_code=lambda df_: module.create_student_code(df_),\n",
    "        # clean class type for the first time\n",
    "        class_type=lambda df_: (\n",
    "            df_[\"class_type\"]\n",
    "            .str.replace(\"Class\", \"\", regex=False)\n",
    "            .str.title()\n",
    "            .str.strip()\n",
    "            .astype(\"category\")\n",
    "        ),\n",
    "        # clean student center raw to be used to determine class mode\n",
    "        student_center=lambda df_: (\n",
    "            df_[\"student_center\"]\n",
    "            .str.replace(\"IN: \", \"\", regex=False)\n",
    "            .str.strip()\n",
    "            .astype(\"category\")\n",
    "        ),\n",
    "        # create class time if not exist\n",
    "        class_time=lambda df_: module.create_class_time(df_),\n",
    "        # clean class description\n",
    "        class_description=lambda df_: (df_[\"class_description\"].str.lower().str.strip().astype(\"str\")),\n",
    "        # clean teacher name for some teachers that are duplicated in coco\n",
    "        teacher=lambda df_: module.clean_teacher_name(df_).astype(\"str\"),\n",
    "        # create class duration if not exist\n",
    "        class_duration=lambda df_: module.create_duration(df_).astype(\"float\"),\n",
    "        # whether the student attend or not\n",
    "        student_attendance=lambda df_: module.create_attend(df_),\n",
    "        # create class location from class description\n",
    "        class_location=lambda df_: (module.create_class_location_1(df_)),\n",
    "    )\n",
    "    # note: may 2023 - replace class with shared account with its real ET\n",
    "    # this is because of shared account problem\n",
    "    # should be before merging with df_teacher\n",
    "    .assign(teacher=lambda df_: module.clean_shared_account_et(df_))\n",
    "    # merge with df_teacher\n",
    "    .merge(\n",
    "        right=module.load_df_teacher(), \n",
    "        left_on=\"teacher\",\n",
    "        right_on=\"coco_teacher_name\",\n",
    "        how=\"left\", \n",
    "        validate=\"many_to_one\"\n",
    "    )\n",
    "    # create class mode = offline, online or GOC\n",
    "    # this is done after teacher merging to get international teacher -> GOC\n",
    "    .assign(class_mode=lambda df_: module.create_class_mode(df_),)\n",
    "    # class location 2nd time to get class_location from teacher center\n",
    "    .assign(class_location=lambda df_: module.create_class_location_2(df_),)\n",
    "    # assert that online class location is online\n",
    "    # assign area to each class\n",
    "    .assign(\n",
    "        class_location=lambda df_: module.assert_class_location_online(df_),\n",
    "        class_area=lambda df_: module.create_class_location_area(df_),\n",
    "    )\n",
    "    # drop unnecessary columns and sort\n",
    "    .drop(columns=[\"student_result\", \"class_unit\"])\n",
    "    .sort_values([\"class_date\", \"class_time\", \"student_code\"])\n",
    "    .sort_index(axis=1)  # sort columns alphabetically\n",
    "    .reset_index(drop=True)\n",
    "    .assign(index=lambda df_: df_.index + 1)  # create index column\n",
    ")"
   ]
  },
  {
   "attachments": {},
   "cell_type": "markdown",
   "metadata": {},
   "source": [
    "# DF Session\n",
    "\n",
    "Row = single session"
   ]
  },
  {
   "cell_type": "code",
   "execution_count": 5,
   "metadata": {},
   "outputs": [
    {
     "name": "stderr",
     "output_type": "stream",
     "text": [
      "/tmp/ipykernel_502062/2786259877.py:8: FutureWarning: The default of observed=False is deprecated and will be changed to True in a future version of pandas. Pass observed=False to retain current behavior or observed=True to adopt the future default and silence this warning.\n",
      "  df_.groupby([\"teacher\", \"class_date\", \"class_time\", \"class_type\"])\n",
      "/tmp/ipykernel_502062/2786259877.py:12: FutureWarning: The default of observed=False is deprecated and will be changed to True in a future version of pandas. Pass observed=False to retain current behavior or observed=True to adopt the future default and silence this warning.\n",
      "  df_.groupby([\"teacher\", \"class_date\", \"class_time\", \"class_type\"])\n"
     ]
    }
   ],
   "source": [
    "df_session = (\n",
    "    df_clean\n",
    "    .sort_values([\"teacher\", \"class_date\", \"class_time\", \"student_membership\"])\n",
    "    .assign(\n",
    "        # transform attendance\n",
    "        # assumes that one teacher can only teach one class at a time\n",
    "        student_attendance_grouped=lambda df_: (\n",
    "            df_.groupby([\"teacher\", \"class_date\", \"class_time\", \"class_type\"])\n",
    "            [\"student_attendance\"].transform(lambda x: \", \".join(x))\n",
    "        ),\n",
    "        student_membership_grouped=lambda df_: (\n",
    "            df_.groupby([\"teacher\", \"class_date\", \"class_time\", \"class_type\"])\n",
    "            [\"student_membership\"].transform(lambda x: \", \".join(x))\n",
    "        ),\n",
    "    )\n",
    "    # ! drop column unique to student and drop duplicate\n",
    "    .drop(\n",
    "        columns=[\n",
    "            \"student_attendance\",\n",
    "            \"student_center\",\n",
    "            \"student_code\",\n",
    "            \"student_name\",\n",
    "            \"student_membership\",\n",
    "            \"index\",\n",
    "        ]\n",
    "    )\n",
    "    .drop_duplicates(keep=\"first\")\n",
    "    .assign(\n",
    "        # create class type grouped\n",
    "        class_type_grouped=lambda df_: module.create_class_type_grouped(df_),\n",
    "        # create class service\n",
    "        class_service=lambda df_: module.create_class_service(df_),\n",
    "        # the number of people who books this class\n",
    "        class_booking=lambda df_: module.create_class_booking(df_),\n",
    "        # the number of people who actually attend\n",
    "        class_attendance=lambda df_: module.create_class_attendance(df_),\n",
    "        # delivered or not delivered\n",
    "        class_status=lambda df_: module.create_class_status(df_),\n",
    "        # class grouping, which groups each class into its membership type\n",
    "        class_grouping = lambda df_: df_[\"class_type_grouped\"].map(module.class_grouping)\n",
    "    )\n",
    "    # drop unused cols and arrange\n",
    "    .drop(columns=[\"student_attendance_grouped\", \"student_membership_grouped\"])\n",
    "    .sort_index(axis=1)\n",
    "    .reset_index(drop=True)\n",
    "    .assign(index=lambda df_: df_.index + 1)\n",
    ")\n",
    "\n",
    "# in 2023-09 there is wrong encounter\n",
    "if config.df_trainer_sheet_name == \"2023-09\":\n",
    "    teachers = [\"Handayani Khaerunisyah Risma\"]\n",
    "    df_session = df_session.loc[\n",
    "        ~((df_session[\"teacher\"].isin(teachers)) & (df_session[\"class_type_grouped\"] == \"Encounter\"))\n",
    "    ]"
   ]
  },
  {
   "attachments": {},
   "cell_type": "markdown",
   "metadata": {},
   "source": [
    "# Test"
   ]
  },
  {
   "cell_type": "code",
   "execution_count": 6,
   "metadata": {},
   "outputs": [],
   "source": [
    "# test to attendance data\n",
    "test_attendance.test_online_class_is_online_location(df_clean)\n",
    "test_attendance.test_class_with_online_name_is_online_location(df_clean)\n",
    "test_attendance.test_class_center_match_with_class_area(df_clean)\n",
    "test_attendance.test_teacher_center_match_with_teacher_area(df_clean)\n",
    "test_attendance.test_no_class_time_is_missing(df_clean)\n",
    "test_attendance.test_shared_account_et_is_mapped(df)\n",
    "test_attendance.test_shared_account_class_is_mapped(df_clean)\n",
    "test_attendance.test_goc_class_have_goc_mode(df_clean)\n",
    "test_attendance.test_teacher_pos_is_complete(df_clean)\n",
    "test_attendance.test_student_membership_is_mapped(df_clean)\n",
    "\n",
    "# test to session data\n",
    "test_session.test_online_class_in_online_location(df_session)\n",
    "test_session.test_booking_higher_than_eq_attendance(df_session)\n",
    "test_session.test_vip_class_mapped(df_session)\n",
    "test_session.test_class_service_mapped(df_session)\n",
    "test_session.test_class_type_all_filled(df_session)\n",
    "test_session.test_class_type_grouped_all_filled(df_session)\n",
    "test_session.test_no_enc_in_class_type_grouped(df_session)\n",
    "\n",
    "# check duplicated code\n",
    "test_attendance.test_one_code_is_one_name(df_clean, \"student_code\", \"student_name\")"
   ]
  },
  {
   "attachments": {},
   "cell_type": "markdown",
   "metadata": {},
   "source": [
    "# Save DF"
   ]
  },
  {
   "attachments": {},
   "cell_type": "markdown",
   "metadata": {},
   "source": [
    "df_clean usually 19000-22000 rows long\n",
    "df_session usually 4000-5000 rows long"
   ]
  },
  {
   "cell_type": "code",
   "execution_count": 7,
   "metadata": {},
   "outputs": [
    {
     "name": "stdout",
     "output_type": "stream",
     "text": [
      "session = 3773\n",
      "attendance = 12026\n",
      "class_status\n",
      "Given        0.851842\n",
      "Not Given    0.148158\n",
      "Name: proportion, dtype: float64\n"
     ]
    }
   ],
   "source": [
    "print(f\"session = {len(df_session)}\")\n",
    "print(f\"attendance = {len(df_clean)}\")\n",
    "print(df_session[\"class_status\"].value_counts(normalize=True))"
   ]
  },
  {
   "cell_type": "code",
   "execution_count": 8,
   "metadata": {},
   "outputs": [
    {
     "name": "stdout",
     "output_type": "stream",
     "text": [
      "Files saved to output/2024/2024-04/data-session-2024-04.xlsx and output/2024/2024-04/data-attendance-2024-04.xlsx\n"
     ]
    }
   ],
   "source": [
    "output_folder = Path(\"output\", config.path_raw_data.parts[1], config.path_raw_data.parts[2])\n",
    "session_filepath = Path(output_folder, f\"data-session-{config.path_raw_data.stem}.xlsx\")\n",
    "att_filepath = Path(output_folder, f\"data-attendance-{config.path_raw_data.stem}.xlsx\")\n",
    "\n",
    "if not Path(session_filepath).exists() and not Path(att_filepath).exists():\n",
    "    Path.mkdir(output_folder, exist_ok=True)\n",
    "    df_session.to_excel(session_filepath, engine=\"xlsxwriter\", index=False)\n",
    "    df_clean.to_excel(att_filepath, engine=\"xlsxwriter\", index=False)\n",
    "    print(f\"Files saved to {session_filepath} and {att_filepath}\")\n",
    "else:\n",
    "    print(f\"Files already exist in {output_folder}\")"
   ]
  },
  {
   "attachments": {},
   "cell_type": "markdown",
   "metadata": {},
   "source": [
    "# Experiment"
   ]
  },
  {
   "cell_type": "code",
   "execution_count": 9,
   "metadata": {},
   "outputs": [],
   "source": [
    "# (\n",
    "#     df\n",
    "#     # drop null rows and cols\n",
    "#     .dropna(how=\"all\", axis=\"columns\")\n",
    "#     .dropna(how=\"all\", axis=\"rows\")\n",
    "#     # clean col name\n",
    "#     .rename(columns=module.map_col)\n",
    "#     .rename(columns=lambda c: c.lower().replace(\" \", \"_\"))\n",
    "#     # obtain current month only\n",
    "#     .assign(class_date=lambda df_: module.convert_to_gmt_plus_7(df_, \"class_date\"))\n",
    "#     .loc[lambda df_: df_[\"class_date\"].dt.month == module.month]\n",
    "#     # drop dup student attendance because i exported the att data multiple x\n",
    "#     # assuming that one student can only exist once at a time\n",
    "#     .drop_duplicates(subset=[\"student_code\", \"class_time\", \"class_date\"])\n",
    "\n",
    "#     .loc[lambda df_: df_[\"student_membership\"] == \"Standard\"]\n",
    "#     .loc[lambda df_: df_[\"class_type\"] == \"Online Encounter\"]\n",
    "#     .loc[lambda df_: ~df_[\"student_name\"].str.lower().str.contains(\"(go\", regex=False)]\n",
    "#     .loc[lambda df_: ~df_[\"student_name\"].str.lower().str.contains(\"go)\", regex=False)]\n",
    "# )"
   ]
  }
 ],
 "metadata": {
  "kernelspec": {
   "display_name": "Python 3 (ipykernel)",
   "language": "python",
   "name": "python3"
  },
  "language_info": {
   "codemirror_mode": {
    "name": "ipython",
    "version": 3
   },
   "file_extension": ".py",
   "mimetype": "text/x-python",
   "name": "python",
   "nbconvert_exporter": "python",
   "pygments_lexer": "ipython3",
   "version": "3.11.8"
  },
  "vscode": {
   "interpreter": {
    "hash": "f3a8bfdb5a557fdd89d56033d82eaae78056dbe7820aa28ba41c9c92a7a71aee"
   }
  }
 },
 "nbformat": 4,
 "nbformat_minor": 4
}
