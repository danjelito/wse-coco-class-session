{
 "cells": [
  {
   "cell_type": "code",
   "execution_count": 12,
   "metadata": {},
   "outputs": [],
   "source": [
    "import glob\n",
    "import importlib\n",
    "import os\n",
    "\n",
    "import pandas as pd\n",
    "\n",
    "import config\n",
    "import module\n",
    "from tests import test_attendance\n",
    "from tests import test_session\n",
    "\n",
    "try:\n",
    "    importlib.reload(module)  # reload module\n",
    "except NameError:\n",
    "    pass\n",
    "\n",
    "try:\n",
    "    importlib.reload(config)  # reload config\n",
    "except NameError:\n",
    "    pass\n",
    "\n",
    "try:\n",
    "    importlib.reload(test_attendance)  # reload module\n",
    "except NameError:\n",
    "    pass\n",
    "\n",
    "try:\n",
    "    importlib.reload(test_session)  # reload module\n",
    "except NameError:\n",
    "    pass"
   ]
  },
  {
   "attachments": {},
   "cell_type": "markdown",
   "metadata": {},
   "source": [
    "## Load DF"
   ]
  },
  {
   "cell_type": "code",
   "execution_count": 13,
   "metadata": {},
   "outputs": [
    {
     "name": "stdout",
     "output_type": "stream",
     "text": [
      "df already exist\n",
      "(229009, 14)\n"
     ]
    }
   ],
   "source": [
    "# if df is not loaded, load df\n",
    "if not \"df_ori\" in locals():\n",
    "    path = config.path_raw_data\n",
    "\n",
    "    # if data is in one file\n",
    "    if config.is_mutiple_files == False:\n",
    "        if config.has_headers:\n",
    "            df_ori = pd.read_excel(path, skiprows=2)\n",
    "        else:\n",
    "            df_ori = pd.read_excel(path)\n",
    "\n",
    "    # if data is in multiple files (data from coco must have headers)\n",
    "    else:\n",
    "        all_files = glob.glob(os.path.join(path, \"*.xlsx\"))\n",
    "\n",
    "        li = []\n",
    "        for filename in all_files:\n",
    "            df = pd.read_excel(filename, index_col=None, skiprows=2)\n",
    "            li.append(df)\n",
    "        df_ori = pd.concat(li, axis=0, ignore_index=True)\n",
    "\n",
    "    print(\"df loaded\")\n",
    "\n",
    "# if df is loaded, do not load again\n",
    "else:\n",
    "    print(\"df already exist\")\n",
    "\n",
    "df = df_ori.copy()\n",
    "print(df.shape)"
   ]
  },
  {
   "attachments": {},
   "cell_type": "markdown",
   "metadata": {},
   "source": [
    "# DF Attendance\n",
    "\n",
    "Row = single attendance"
   ]
  },
  {
   "cell_type": "code",
   "execution_count": 14,
   "metadata": {},
   "outputs": [],
   "source": [
    "df_clean= (df\n",
    "    # drop null rows and cols\n",
    "    .dropna(how= 'all', axis= 'columns').dropna(how= 'all', axis= 'rows')\n",
    "    # clean col name\n",
    "    .rename(columns= module.map_col) \n",
    "    .rename(columns= lambda c: c.lower().replace(' ', '_')) \n",
    "    \n",
    "    # drop unnecessary cols\n",
    "    .drop(columns= ['class_unit'])\n",
    "    \n",
    "    # obtain current month only\n",
    "    .assign(class_date= lambda df_: module.convert_to_gmt_plus_7(df_, 'class_date'))\n",
    "    .loc[lambda df_: df_['class_date'].dt.month == module.month]\n",
    "    \n",
    "    # drop dup student attendance because i exported the att data multiple x\n",
    "    # note: assumes that one student can only exist one at a time\n",
    "    .drop_duplicates(subset= ['student_code', 'class_time', 'class_date'])\n",
    "    \n",
    "    .assign(\n",
    "        student_name= lambda df_: df_['student_name'].str.upper(),\n",
    "        # new code = name + code\n",
    "        student_code= lambda df_: (df_['student_name'] + \n",
    "                                   ' - ' + \n",
    "                                   df_['student_code'].astype('str')\n",
    "                                   ),\n",
    "        # mode = offline, online or GOC\n",
    "        class_mode= lambda df_: module.create_class_mode(df_), \n",
    "        # membership = dlx, online or GO\n",
    "        student_membership= lambda df_: module.create_student_membership(df_),\n",
    "        # clean class type for the first time\n",
    "        class_type= lambda df_: (df_['class_type']\n",
    "                                 .str.replace('Class', '', regex= False)\n",
    "                                 .str.title()\n",
    "                                 .str.strip()\n",
    "                                 .astype('category')\n",
    "                                ),  \n",
    "        # clean student center\n",
    "        student_center= lambda df_: (df_['student_center']\n",
    "                                     .str.replace('IN: ', '', regex= False)\n",
    "                                     .str.strip()\n",
    "                                     .astype('category')\n",
    "                                    ),\n",
    "        # create class time if not exist\n",
    "        class_time= lambda df_: module.create_class_time(df_),\n",
    "        # clean class description\n",
    "        class_description= lambda df_:  (df_['class_description']\n",
    "                                         .str.lower()\n",
    "                                         .str.strip()\n",
    "                                         .astype('str')\n",
    "                                        ),\n",
    "        # clean teacher name for some teachers that are duplicated in coco\n",
    "        teacher= lambda df_: module.clean_teacher_name(df_).astype('str'),\n",
    "        # create class duration if not exist\n",
    "        class_duration= lambda df_: module.create_duration(df_).astype('float'),\n",
    "        # whether the student attend or not\n",
    "        student_attendance= lambda df_: module.create_attend(df_),\n",
    "        # create class location from class description\n",
    "        class_location= lambda df_: (module\n",
    "                                     .create_class_location_1(df_)\n",
    "                                     .fillna('Online')\n",
    "                                    )\n",
    "    )\n",
    "    # note: may 2023 - replace class with shared account with its real ET\n",
    "    # this is because of shared account problem\n",
    "    # should be before merging with df_teacher\n",
    "    .assign(teacher= lambda df_: module.clean_shared_account_et(df_))\n",
    "\n",
    "    # merge with df_teacher\n",
    "    .merge(right= module.load_df_teacher(), on= 'teacher', how= 'left')\n",
    "\n",
    "    # note: class location 2nd time to get class_location from teacher center\n",
    "    .assign(class_location= lambda df_: module.create_class_location_2(df_),)\n",
    "    # assert that online class location is online\n",
    "    # assign area to each class\n",
    "    .assign(\n",
    "        class_location= lambda df_: module.assert_class_location_online(df_),\n",
    "        class_area= lambda df_: module.create_class_location_area(df_),\n",
    "    )\n",
    "    \n",
    "    # drop unnecessary columns and sort\n",
    "    .drop(columns= ['student_name', 'student_result'])\n",
    "    .sort_values(['class_date', 'class_time', 'student_code'])\n",
    "    .sort_index(axis= 1) # sort columns alphabetically\n",
    "    .reset_index(drop= True)\n",
    "    .assign(index= lambda df_: df_.index + 1) # create index column\n",
    ")"
   ]
  },
  {
   "attachments": {},
   "cell_type": "markdown",
   "metadata": {},
   "source": [
    "# DF Session\n",
    "\n",
    "Row = single session"
   ]
  },
  {
   "cell_type": "code",
   "execution_count": 15,
   "metadata": {},
   "outputs": [
    {
     "name": "stderr",
     "output_type": "stream",
     "text": [
      "/tmp/ipykernel_31817/3067896675.py:7: FutureWarning: The default of observed=False is deprecated and will be changed to True in a future version of pandas. Pass observed=False to retain current behavior or observed=True to adopt the future default and silence this warning.\n",
      "  df_.groupby([\"teacher\", \"class_date\", \"class_time\", \"class_type\"])[\n",
      "/tmp/ipykernel_31817/3067896675.py:12: FutureWarning: The default of observed=False is deprecated and will be changed to True in a future version of pandas. Pass observed=False to retain current behavior or observed=True to adopt the future default and silence this warning.\n",
      "  df_.groupby([\"teacher\", \"class_date\", \"class_time\", \"class_type\"])[\n"
     ]
    }
   ],
   "source": [
    "df_session = (df_clean\n",
    "    .sort_values([\"teacher\", \"class_date\", \"class_time\", \"student_membership\"])\n",
    "    .assign(\n",
    "        # transform attendance\n",
    "        # assumes that one teacher can only teach one class at a time\n",
    "        student_attendance_grouped=lambda df_: (\n",
    "            df_.groupby([\"teacher\", \"class_date\", \"class_time\", \"class_type\"])[\n",
    "                \"student_attendance\"\n",
    "            ].transform(lambda x: \", \".join(x))\n",
    "        ),\n",
    "        student_membership_grouped=lambda df_: (\n",
    "            df_.groupby([\"teacher\", \"class_date\", \"class_time\", \"class_type\"])[\n",
    "                \"student_membership\"\n",
    "            ].transform(lambda x: \", \".join(x))\n",
    "        ),\n",
    "    )\n",
    "    # ! drop column unique to student and drop duplicate\n",
    "    .drop(\n",
    "        columns=[\n",
    "            \"student_attendance\",\n",
    "            \"student_center\",\n",
    "            \"student_code\",\n",
    "            \"student_membership\",\n",
    "            \"index\",\n",
    "        ]\n",
    "    )\n",
    "    .drop_duplicates(keep=\"first\")\n",
    "    .assign(\n",
    "        # create class type grouped\n",
    "        class_type_grouped=lambda df_: module.create_class_type_grouped(df_),\n",
    "        # create class service\n",
    "        class_service=lambda df_: module.create_class_service(df_),\n",
    "        # the number of people who books this class\n",
    "        class_booking=lambda df_: module.create_class_booking(df_),\n",
    "        # the number of people who actually attend\n",
    "        class_attendance=lambda df_: module.create_class_attendance(df_),\n",
    "        # delivered or not delivered\n",
    "        class_status=lambda df_: module.create_class_status(df_),\n",
    "    )\n",
    "    # drop unused cols and arrange\n",
    "    .drop(columns=[\"student_attendance_grouped\", \"student_membership_grouped\"])\n",
    "    .sort_index(axis=1)\n",
    "    .reset_index(drop=True)\n",
    "    .assign(index=lambda df_: df_.index + 1)\n",
    ")"
   ]
  },
  {
   "attachments": {},
   "cell_type": "markdown",
   "metadata": {},
   "source": [
    "# Test"
   ]
  },
  {
   "cell_type": "code",
   "execution_count": 16,
   "metadata": {},
   "outputs": [],
   "source": [
    "# test to attendance data\n",
    "test_attendance.test_online_class_is_online_location(df_clean)\n",
    "test_attendance.test_class_with_online_name_is_online_location(df_clean)\n",
    "test_attendance.test_class_center_match_with_class_area(df_clean, config.map_centers)\n",
    "test_attendance.test_teacher_center_match_with_teacher_area(df_clean, config.map_centers)\n",
    "test_attendance.test_no_class_time_is_missing(df_clean)\n",
    "test_attendance.test_shared_account_et_is_mapped(df)\n",
    "test_attendance.test_shared_account_class_is_mapped(df_clean)\n",
    "test_attendance.test_goc_class_have_goc_mode(df_clean)\n",
    "test_attendance.test_teacher_pos_is_complete(df_clean)\n",
    "test_attendance.test_student_membership_is_mapped(df_clean)\n",
    "\n",
    "# test to session data\n",
    "test_session.test_online_class_in_online_location(df_session)\n",
    "test_session.test_booking_higher_than_eq_attendance(df_session)\n",
    "test_session.test_vip_class_mapped(df_session)\n",
    "test_session.test_class_service_mapped(df_session)"
   ]
  },
  {
   "attachments": {},
   "cell_type": "markdown",
   "metadata": {},
   "source": [
    "# Save DF"
   ]
  },
  {
   "attachments": {},
   "cell_type": "markdown",
   "metadata": {},
   "source": [
    "df_clean usually 19000-22000 rows long\n",
    "df_session usually 3300-3600 rows long"
   ]
  },
  {
   "cell_type": "code",
   "execution_count": 17,
   "metadata": {},
   "outputs": [
    {
     "name": "stdout",
     "output_type": "stream",
     "text": [
      "session = 4554\n",
      "attendance = 17485\n",
      "\n",
      "class_status\n",
      "Given        3923\n",
      "Not Given     631\n",
      "Name: count, dtype: int64\n",
      "86.0\n"
     ]
    }
   ],
   "source": [
    "print(f'session = {len(df_session)}')\n",
    "print(f'attendance = {len(df_clean)}\\n')\n",
    "\n",
    "# ! class status value counts\n",
    "status= (df_session['class_status'].value_counts())\n",
    "print(status)\n",
    "print((status['Given'] / status.sum() * 100).round(0))"
   ]
  },
  {
   "cell_type": "code",
   "execution_count": 18,
   "metadata": {},
   "outputs": [
    {
     "data": {
      "text/plain": [
       "'dec 2023'"
      ]
     },
     "execution_count": 18,
     "metadata": {},
     "output_type": "execute_result"
    }
   ],
   "source": [
    "date_range=\\\n",
    "    df_clean['class_date'].min().month_name()[:3] +\\\n",
    "    ' ' + str(df_clean['class_date'].min().year)\n",
    "date_range= date_range.lower()\n",
    "date_range"
   ]
  },
  {
   "cell_type": "code",
   "execution_count": 19,
   "metadata": {},
   "outputs": [
    {
     "name": "stdout",
     "output_type": "stream",
     "text": [
      "Files already exist in data/12 dec 2023/data session dec 2023.xlsx and data/12 dec 2023/data attendance dec 2023.xlsx\n"
     ]
    }
   ],
   "source": [
    "output_folder = config.path_raw_data.parents[0]\n",
    "session_filepath = output_folder / (\"data session \" + date_range + \".xlsx\")\n",
    "att_filepath = output_folder / (\"data attendance \" + date_range + \".xlsx\")\n",
    "\n",
    "if not os.path.exists(session_filepath) and not os.path.exists(att_filepath):\n",
    "    df_session.to_excel(session_filepath, engine=\"xlsxwriter\", index=False)\n",
    "    df_clean.to_excel(att_filepath, engine=\"xlsxwriter\", index=False)\n",
    "    print(f\"Files saved to {session_filepath} and {att_filepath}\")\n",
    "else:\n",
    "    print(f\"Files already exist in {session_filepath} and {att_filepath}\")"
   ]
  },
  {
   "attachments": {},
   "cell_type": "markdown",
   "metadata": {},
   "source": [
    "# Experiment"
   ]
  }
 ],
 "metadata": {
  "kernelspec": {
   "display_name": "Python 3 (ipykernel)",
   "language": "python",
   "name": "python3"
  },
  "language_info": {
   "codemirror_mode": {
    "name": "ipython",
    "version": 3
   },
   "file_extension": ".py",
   "mimetype": "text/x-python",
   "name": "python",
   "nbconvert_exporter": "python",
   "pygments_lexer": "ipython3",
   "version": "3.11.5"
  },
  "vscode": {
   "interpreter": {
    "hash": "f3a8bfdb5a557fdd89d56033d82eaae78056dbe7820aa28ba41c9c92a7a71aee"
   }
  }
 },
 "nbformat": 4,
 "nbformat_minor": 4
}
